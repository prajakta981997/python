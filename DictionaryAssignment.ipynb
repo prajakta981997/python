{
 "cells": [
  {
   "cell_type": "code",
   "execution_count": 2,
   "id": "d25fbe4e",
   "metadata": {},
   "outputs": [
    {
     "name": "stdout",
     "output_type": "stream",
     "text": [
      "{'a': 100, 'b': 200, 'd': 400, 'c': 300}\n"
     ]
    }
   ],
   "source": [
    "#1.\tWrite a Python program to combine two dictionary adding values for common keys. Go to the editor\n",
    "d1 = {'a': 100, 'b': 200, 'c':300}\n",
    "d2 = {'a': 300, 'b': 200, 'd':400}\n",
    "#Sample output: Counter({'a': 400, 'b': 400, 'd': 400, 'c': 300})\n",
    "\n",
    "for key in d2:\n",
    "    if key in d1:\n",
    "        d2[key]=d2[key]+d1[key]\n",
    "    else:\n",
    "        pass\n",
    "res=d2|d1\n",
    "print(res)\n",
    "    \n"
   ]
  },
  {
   "cell_type": "code",
   "execution_count": 8,
   "id": "7f3eccf3",
   "metadata": {},
   "outputs": [
    {
     "name": "stdout",
     "output_type": "stream",
     "text": [
      "{'V': 'S009', 'VI': 'S005', 'VII': 'S005', 'VIII': 'S007'}\n"
     ]
    }
   ],
   "source": [
    "#2.\tWrite a Python program to print all unique values in a dictionary.\n",
    "List=[{'V': 'S001'}, {'V': 'S002'}, {'VI': 'S001'}, {'VI': 'S005'}, {'VII': 'S005'}, {'V': 'S009'},\n",
    "{'VIII': 'S007'}]\n",
    "o=[]\n",
    "for i in List:\n",
    "    if i not in o:\n",
    "        o.append(i)\n",
    "d1={}\n",
    "for i in o:\n",
    "    d1.update(i)\n",
    "print(d1)    "
   ]
  },
  {
   "cell_type": "code",
   "execution_count": 10,
   "id": "20d18229",
   "metadata": {},
   "outputs": [
    {
     "name": "stdout",
     "output_type": "stream",
     "text": [
      "{'w': 1, '3': 1, 'r': 2, 'e': 2, 's': 1, 'o': 1, 'u': 1, 'c': 1}\n"
     ]
    }
   ],
   "source": [
    "#33.\tWrite a Python program to create a dictionary from a string.\n",
    " #Track the count of the letters from the string.\n",
    "#Sample string : 'w3resource'\n",
    "#Expected output: {'3': 1, 's': 1, 'r': 2, 'u': 1, 'w': 1, 'c': 1, 'e': 2, 'o': 1}\n",
    "st='w3resource' \n",
    "d={}\n",
    "for ch in st:\n",
    "    if ch in d:\n",
    "        d[ch]+=1\n",
    "    else:\n",
    "        d[ch]=1\n",
    "print(d)        \n",
    "    \n"
   ]
  },
  {
   "cell_type": "code",
   "execution_count": 11,
   "id": "92f5a5f5",
   "metadata": {},
   "outputs": [
    {
     "name": "stdout",
     "output_type": "stream",
     "text": [
      "Math\n"
     ]
    }
   ],
   "source": [
    "#4.\tMerge following two Python dictionaries into one.\n",
    "#Get the key corresponding to the minimum value from the following dictionary\n",
    "sampleDict = {  'Physics': 82,  'Math': 65,  'history': 75}\n",
    "#Expected output:  Math\n",
    "print(min(sampleDict,key=sampleDict.get))\n",
    "\n"
   ]
  },
  {
   "cell_type": "code",
   "execution_count": 2,
   "id": "468f8bf2",
   "metadata": {},
   "outputs": [
    {
     "name": "stdout",
     "output_type": "stream",
     "text": [
      "{'python': 100, 'java': 200, 'for': 325}\n"
     ]
    }
   ],
   "source": [
    "#5.\tCombine two dictionary adding values for common keys\n",
    "dict1 = {'a': 12, 'for': 25, 'c': 9}\n",
    "dict2 = {'python': 100, 'java': 200, 'for': 300}\n",
    "#Output: {'for': 325, 'python': 100, 'java': 200}\n",
    "for key in dict2:\n",
    "    if key in dict1:\n",
    "        dict2[key]=dict2[key]+dict1[key]\n",
    "    else:\n",
    "        pass\n",
    "res=dict2\n",
    "print(res)\n"
   ]
  },
  {
   "cell_type": "code",
   "execution_count": 8,
   "id": "89ff6c45",
   "metadata": {},
   "outputs": [
    {
     "name": "stdout",
     "output_type": "stream",
     "text": [
      "101 has value\n",
      "Apple  = 10\n",
      "Mango = 5\n",
      "102 has value\n",
      "Apple = 15\n",
      "Mango = 8\n",
      "Cherry = 5\n",
      "103 has value\n",
      "Apple = 10\n"
     ]
    }
   ],
   "source": [
    "dict1={101:{'Apple ':10, 'Mango' :5 },\n",
    "                102 :{'Apple' :15, 'Mango' :8, 'Cherry' :5 },\n",
    "                103: {'Apple' :10}}\n",
    "#Output\n",
    "dict2={}\n",
    "#dict2= {“ Apple” :35, “Mango” :13, “Cherry” :5 }\n",
    "for k,vdic in dict1.items():\n",
    "       print(k,'has value')\n",
    "       for k1,v1 in vdic.items():\n",
    "           print(k1,'=',vdic[k1])\n"
   ]
  },
  {
   "cell_type": "code",
   "execution_count": null,
   "id": "7d7d45c1",
   "metadata": {},
   "outputs": [],
   "source": []
  }
 ],
 "metadata": {
  "kernelspec": {
   "display_name": "Python 3 (ipykernel)",
   "language": "python",
   "name": "python3"
  },
  "language_info": {
   "codemirror_mode": {
    "name": "ipython",
    "version": 3
   },
   "file_extension": ".py",
   "mimetype": "text/x-python",
   "name": "python",
   "nbconvert_exporter": "python",
   "pygments_lexer": "ipython3",
   "version": "3.9.7"
  }
 },
 "nbformat": 4,
 "nbformat_minor": 5
}
