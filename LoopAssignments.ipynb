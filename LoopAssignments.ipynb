{
 "cells": [
  {
   "cell_type": "code",
   "execution_count": 1,
   "id": "9c898bef",
   "metadata": {},
   "outputs": [
    {
     "name": "stdout",
     "output_type": "stream",
     "text": [
      "122 ,124 ,126 ,128 ,130 ,132 ,134 ,136 ,138 ,140 ,142 ,144 ,146 ,148 ,150 ,152 ,154 ,156 ,158 ,160 ,162 ,164 ,166 ,168 ,170 ,172 ,174 ,176 ,178 ,180 ,182 ,184 ,186 ,188 ,190 ,192 ,194 ,196 ,198 ,200 ,202 ,204 ,206 ,208 ,210 ,212 ,214 ,216 ,218 ,220 ,222 ,224 ,226 ,228 ,"
     ]
    }
   ],
   "source": [
    "#WAP to print even numbers from 121 to 229 using for loop.\n",
    "for i in range(121,229):\n",
    "    if i%2==0:\n",
    "        print(i,end=' ,')"
   ]
  },
  {
   "cell_type": "code",
   "execution_count": 2,
   "id": "62b66aa1",
   "metadata": {},
   "outputs": [
    {
     "name": "stdout",
     "output_type": "stream",
     "text": [
      "521,519,517,515,513,511,509,507,505,503,501,499,497,495,493,491,489,487,485,483,481,479,477,475,473,471,469,467,465,463,461,459,457,455,453,451,449,447,445,443,441,439,437,435,433,431,429,427,425,423,421,419,417,415,413,411,409,407,405,403,401,399,397,395,393,391,389,387,385,383,381,379,377,375,373,371,369,367,365,363,361,359,357,355,353,351,349,347,345,343,341,339,337,335,333,331,329,327,325,323,321,319,317,315,313,311,309,307,305,303,301,299,297,295,293,291,289,287,285,283,281,279,277,275,273,271,269,267,265,263,261,259,257,255,253,251,249,247,245,243,241,239,237,235,233,231,"
     ]
    }
   ],
   "source": [
    "#WAP to print odd numbers from 521 to 229 using while loop.\n",
    "for i in range(521,229,-1):\n",
    "    if i%2!=0:\n",
    "        print(i,end=\",\")\n",
    "    \n"
   ]
  },
  {
   "cell_type": "code",
   "execution_count": 3,
   "id": "497f7230",
   "metadata": {},
   "outputs": [
    {
     "name": "stdout",
     "output_type": "stream",
     "text": [
      "397,389,383,379,373,367,359,353,349,347,337,331,317,313,311,307,"
     ]
    }
   ],
   "source": [
    "#WAP to show the use of break statement \n",
    "for num in range(400,300,-1):\n",
    "    count=0\n",
    "    for i in range(2,(num//2+1)):\n",
    "        if(num%i==0):\n",
    "            count=count+1\n",
    "            break\n",
    "    if(count==0):\n",
    "        print(num,end=',')"
   ]
  },
  {
   "cell_type": "code",
   "execution_count": 1,
   "id": "916d5383",
   "metadata": {},
   "outputs": [
    {
     "name": "stdout",
     "output_type": "stream",
     "text": [
      "enter number:-25\n",
      "enter number;-5\n",
      "gcd of25 and 5 is 5 \n",
      "lcm is: 25.0\n"
     ]
    }
   ],
   "source": [
    "#WAP to find GCD and LCM of given number\n",
    "a=int(input('enter number:-'))\n",
    "b=int(input('enter number;-'))\n",
    "for i in range(1,a+1):\n",
    "    if a%i==0 and b%i==0:\n",
    "        gcd=i\n",
    "s1='gcd of{0} and {1} is {2} '\n",
    "print(s1.format(a,b,gcd))\n",
    "lcm=a*b/gcd\n",
    "print('lcm is:',lcm)"
   ]
  },
  {
   "cell_type": "code",
   "execution_count": null,
   "id": "a93336ec",
   "metadata": {},
   "outputs": [],
   "source": [
    "#Write a Python program to print all alphabets from a to z using for loop\n",
    "\n",
    "for i in range(97,123):\n",
    "    print(chr(i),end=',')"
   ]
  },
  {
   "cell_type": "code",
   "execution_count": null,
   "id": "5827eec1",
   "metadata": {},
   "outputs": [],
   "source": [
    "#Write a Python program to find sum of all even numbers between 1 to n.\n",
    "n=int(input('Enter Number'))\n",
    "sum=0\n",
    "for i in range(1,n+1):\n",
    "    if(i%2==0):\n",
    "        sum+=i\n",
    "print(\"sum of even numbers:\",sum)        "
   ]
  },
  {
   "cell_type": "code",
   "execution_count": null,
   "id": "392a922a",
   "metadata": {},
   "outputs": [],
   "source": [
    "#Write a Python program to find sum of all odd numbers between 1 to n.\n",
    "n=int(input('Enter Number'))\n",
    "sum=0\n",
    "for i in range(1,n+1):\n",
    "    if(i%2!=0):\n",
    "        sum+=i\n",
    "print(\"sum of even numbers:\",sum)        "
   ]
  },
  {
   "cell_type": "code",
   "execution_count": null,
   "id": "625744ed",
   "metadata": {},
   "outputs": [],
   "source": [
    "#Write a Python program to count number of digits in any number\n",
    "num=int(input('enter number:='))\n",
    "count=0\n",
    "while(num>0):\n",
    "    count=count+1\n",
    "    num=num//10\n",
    "print(count)    "
   ]
  },
  {
   "cell_type": "code",
   "execution_count": null,
   "id": "2ebcbeba",
   "metadata": {},
   "outputs": [],
   "source": [
    "#Write a Python program to calculate product of digits of any number.\n",
    "n=int(input(\"enter elements:\"))\n",
    "product=1\n",
    "for i in range(1,n+1):\n",
    "    product*=i\n",
    "print('product of numbers:',product)    "
   ]
  },
  {
   "cell_type": "code",
   "execution_count": null,
   "id": "84d2d460",
   "metadata": {},
   "outputs": [],
   "source": [
    "#Find all prime number between 400 to 300;\n",
    "for num in range(400,300,-1):\n",
    "    count=0\n",
    "    for i in range(2,(num//2+1)):\n",
    "        if(num%i==0):\n",
    "            count=count+1\n",
    "            break\n",
    "    if(count==0):\n",
    "        print(num,end=\" \")"
   ]
  },
  {
   "cell_type": "code",
   "execution_count": null,
   "id": "a4bcead0",
   "metadata": {},
   "outputs": [],
   "source": [
    "#12. WAP to print table of given no\n",
    "n=int(input('Entrer num:'))\n",
    "for i in range(1,20):\n",
    "    print(n,'*',i,'=',i*n)"
   ]
  },
  {
   "cell_type": "code",
   "execution_count": 5,
   "id": "b0e1149b",
   "metadata": {},
   "outputs": [
    {
     "name": "stdout",
     "output_type": "stream",
     "text": [
      "1\n",
      "4\n",
      "9\n",
      "16\n",
      "25\n",
      "36\n",
      "49\n",
      "64\n",
      "81\n",
      "100\n",
      "121\n",
      "144\n",
      "169\n",
      "196\n",
      "225\n",
      "256\n",
      "289\n",
      "324\n",
      "361\n"
     ]
    }
   ],
   "source": [
    "#WAP to print squares from 1 to20\n",
    "#n=int(input('enter number:'))\n",
    "for i in range(1,20):\n",
    "    sqr=i*i\n",
    "    print(sqr)"
   ]
  },
  {
   "cell_type": "code",
   "execution_count": null,
   "id": "a8277e55",
   "metadata": {},
   "outputs": [],
   "source": []
  },
  {
   "cell_type": "code",
   "execution_count": 3,
   "id": "a07d6d8a",
   "metadata": {},
   "outputs": [
    {
     "name": "stdout",
     "output_type": "stream",
     "text": [
      "enter the base:2\n",
      "enter the index:3\n",
      "power is: 8\n"
     ]
    }
   ],
   "source": [
    "#WAP to accept base and index from user and calculates power\n",
    "base=int(input('enter the base:'))\n",
    "index=int(input('enter the index:'))\n",
    "res=base**index\n",
    "print('power is:',res)\n",
    "\n"
   ]
  },
  {
   "cell_type": "code",
   "execution_count": 6,
   "id": "368aaa29",
   "metadata": {},
   "outputs": [
    {
     "name": "stdout",
     "output_type": "stream",
     "text": [
      "enter the range of number:9\n",
      "the sum of the series: 409113\n"
     ]
    }
   ],
   "source": [
    "#1!+2!+3!.........+n! find s\n",
    "n=int(input('enter the range of number:'))\n",
    "sum=0\n",
    "fact=1\n",
    "for i in range(1,n+1):\n",
    "    fact*=i\n",
    "    sum+=fact\n",
    "print(\"the sum of the series:\",sum)    \n",
    "    "
   ]
  },
  {
   "cell_type": "code",
   "execution_count": 7,
   "id": "0123881c",
   "metadata": {},
   "outputs": [
    {
     "name": "stdout",
     "output_type": "stream",
     "text": [
      "enter number:153\n",
      "not krishnamurthy number;\n"
     ]
    }
   ],
   "source": [
    "#WAP to check given no is Krishnamurthy or not\n",
    "#eg) 153=1!+5!+3!=153\n",
    "num=int(input('enter number:'))\n",
    "temp=num\n",
    "fact=1\n",
    "sum=0\n",
    "while(num>0):\n",
    "    r=num%10\n",
    "    fact=1\n",
    "    for i in range(1,r+1):\n",
    "        fact=fact*i\n",
    "    sum=sum+fact\n",
    "    num=num//10\n",
    "if(sum==temp):\n",
    "    print('krishnamurthy number:')\n",
    "else:\n",
    "    print('not krishnamurthy number;')\n",
    "    "
   ]
  },
  {
   "cell_type": "code",
   "execution_count": 8,
   "id": "03f8a3d1",
   "metadata": {},
   "outputs": [
    {
     "name": "stdout",
     "output_type": "stream",
     "text": [
      "Enter the number1221\n",
      "the number is palindrome\n"
     ]
    }
   ],
   "source": [
    "#17. WAP to check given no is palindrome or not. Original =Reverse\n",
    "#Eg 1221\n",
    "n=int(input(\"Enter the number\"))\n",
    "temp=n\n",
    "rev=0\n",
    "while(n>0):\n",
    "    dig=n%10\n",
    "    rev=rev*10+dig\n",
    "    n=n//10\n",
    "if(temp==rev):\n",
    "    print(\"the number is palindrome\")\n",
    "else:\n",
    "    print(\"the number is not palindrome\")"
   ]
  },
  {
   "cell_type": "code",
   "execution_count": 9,
   "id": "956d6f1f",
   "metadata": {},
   "outputs": [
    {
     "name": "stdout",
     "output_type": "stream",
     "text": [
      "enter number:25\n",
      "sqr pof num is:- 625\n",
      "25 is automorphic num\n"
     ]
    }
   ],
   "source": [
    "#WAP to check given no is automorphic or not\n",
    "#input n=25\n",
    "#output Automorphic\n",
    "#as 25*25=625\n",
    "a=int(input('enter number:'))\n",
    "b=a*a\n",
    "print('sqr pof num is:-',b)\n",
    "if(a%10!=b%10):\n",
    "    print(a,'is not automorphic')\n",
    "else:\n",
    "    print(a,'is automorphic num')"
   ]
  },
  {
   "cell_type": "code",
   "execution_count": 10,
   "id": "112ad0a4",
   "metadata": {},
   "outputs": [
    {
     "name": "stdout",
     "output_type": "stream",
     "text": [
      "enter the num:125\n",
      "125is not harshad num\n"
     ]
    }
   ],
   "source": [
    "#19. WAP to find given number is Harshad/Niven number or not\n",
    "#An harshad number is an integer number divisible by sum of its digit\n",
    "#Eg 18 sum=9 and 18 is divisible by 9\n",
    "\n",
    "num=int(input('enter the num:'))\n",
    "rem=sum=0;\n",
    "n=num;\n",
    "while(num>0):\n",
    "    rem=num%10;\n",
    "    sum=sum+rem;\n",
    "    num=num//10;\n",
    "if(n%sum==0):\n",
    "    print(str(n)+'is harshad num');\n",
    "else:\n",
    "    print(str(n)+'is not harshad num');"
   ]
  },
  {
   "cell_type": "code",
   "execution_count": 16,
   "id": "c81ba763",
   "metadata": {},
   "outputs": [
    {
     "name": "stdout",
     "output_type": "stream",
     "text": [
      "101 ,111 ,121 ,131 ,141 ,151 ,161 ,171 ,181 ,191 ,202 ,212 ,222 ,232 ,242 ,252 ,262 ,272 ,282 ,292 ,303 ,313 ,323 ,333 ,343 ,353 ,363 ,373 ,383 ,393 ,404 ,414 ,424 ,434 ,444 ,454 ,464 ,474 ,484 ,494 ,"
     ]
    }
   ],
   "source": [
    "#20. Print all palindrome numbers from 100 to 500\n",
    "for num in range(100,500+1):\n",
    "    temp=num\n",
    "    reverse=0\n",
    "    while(temp>0):\n",
    "        reminder=temp%10\n",
    "        reverse=(reverse*10)+reminder\n",
    "        temp=temp//10\n",
    "    if(num==reverse):\n",
    "        print(num,end=' ,')"
   ]
  },
  {
   "cell_type": "code",
   "execution_count": null,
   "id": "b359752e",
   "metadata": {},
   "outputs": [],
   "source": []
  }
 ],
 "metadata": {
  "kernelspec": {
   "display_name": "Python 3 (ipykernel)",
   "language": "python",
   "name": "python3"
  },
  "language_info": {
   "codemirror_mode": {
    "name": "ipython",
    "version": 3
   },
   "file_extension": ".py",
   "mimetype": "text/x-python",
   "name": "python",
   "nbconvert_exporter": "python",
   "pygments_lexer": "ipython3",
   "version": "3.9.7"
  }
 },
 "nbformat": 4,
 "nbformat_minor": 5
}
