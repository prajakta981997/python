{
 "cells": [
  {
   "cell_type": "code",
   "execution_count": 21,
   "id": "c980649e",
   "metadata": {},
   "outputs": [
    {
     "name": "stdout",
     "output_type": "stream",
     "text": [
      "origional list: ['php', 'nayan', 'praju', 'pop']\n",
      "palindrome : ['php', 'nayan', 'pop']\n"
     ]
    }
   ],
   "source": [
    "#Write a Python program to find palindromes in a given list of strings\n",
    "#using Lambda.\n",
    "\n",
    "l=['php','nayan','praju','pop']\n",
    "\n",
    "print('origional list:',l)\n",
    "\n",
    "pal=list(filter(lambda a:(a==\"\".join(reversed(a))),l))\n",
    "\n",
    "print('palindrome :',pal)"
   ]
  },
  {
   "cell_type": "code",
   "execution_count": 22,
   "id": "b168e9a1",
   "metadata": {},
   "outputs": [
    {
     "name": "stdout",
     "output_type": "stream",
     "text": [
      "sum of negative number is: -13\n"
     ]
    }
   ],
   "source": [
    "#Write a Python program that removes the positive numbers from a given\n",
    "#list of numbers. Sum the negative numbers and print the absolute value\n",
    "#using lambda function.\n",
    "\n",
    "l1=[1,-2,3,-4,6,-7]\n",
    "\n",
    "x=list(filter(lambda x:x<0,l1))\n",
    "\n",
    "print('sum of negative number is:',sum(x))"
   ]
  },
  {
   "cell_type": "code",
   "execution_count": 23,
   "id": "c2384dbe",
   "metadata": {},
   "outputs": [
    {
     "name": "stdout",
     "output_type": "stream",
     "text": [
      "origional list: [('English', 88), ('Science', 90), ('Maths', 97), ('Social sciences', 82)]\n",
      "sorted list [('Social sciences', 82), ('English', 88), ('Science', 90), ('Maths', 97)]\n"
     ]
    }
   ],
   "source": [
    "#Write a Python program to sort a list of tuples using Lambda.\n",
    "#subject_marks = [('English', 88), ('Science', 90), ('Maths', 97),\n",
    "#('Social sciences', 82)]\n",
    "#output\n",
    "#Sorting the List of Tuples:\n",
    "#[('Social sciences', 82), ('English', 88), ('Science', 90), ('Maths', 97)]\n",
    "\n",
    "\n",
    "subject_marks=[('English', 88), ('Science', 90), ('Maths', 97),('Social sciences', 82)]\n",
    "\n",
    "print('origional list:',subject_marks)\n",
    "\n",
    "subject_marks.sort(key=lambda x:x[1])\n",
    "\n",
    "print('sorted list',subject_marks)"
   ]
  },
  {
   "cell_type": "code",
   "execution_count": 31,
   "id": "68ff8b6d",
   "metadata": {},
   "outputs": [],
   "source": [
    "#Write a Python program to square and cube every alternate number\n",
    "#using list comprehension.\n",
    "\n",
    "l1=[1,2,3,4,5,6]\n",
    "\n",
    "n1=list(i**2 for i in l1 if i%2==0)\n",
    "\n",
    "n2=list(i**3 for i in l1 if i%2!=0)\n",
    "#alternate(n2,n1)\n",
    "#print(alternte(n2,n1))"
   ]
  },
  {
   "cell_type": "code",
   "execution_count": 32,
   "id": "b062c2a4",
   "metadata": {},
   "outputs": [
    {
     "name": "stdout",
     "output_type": "stream",
     "text": [
      "[3, 5, 7, 9]\n"
     ]
    }
   ],
   "source": [
    "#Write a program to find all prime number from given list using filter function .\n",
    "\n",
    "\n",
    "n1=[1,2,3,4,5,6,7,8,9]\n",
    "n=list(filter(lambda x:x%2==1 and x!=1,n1))\n",
    "print(n)"
   ]
  },
  {
   "cell_type": "code",
   "execution_count": 35,
   "id": "da8a2050",
   "metadata": {},
   "outputs": [
    {
     "name": "stdout",
     "output_type": "stream",
     "text": [
      "72\n"
     ]
    }
   ],
   "source": [
    "#Write a Python logic to multiply all the numbers in a list ( use reduce function)\n",
    "\n",
    "from functools import reduce\n",
    "l6=[3,3,8,1]\n",
    "total=reduce(lambda x,y:x*y,l6)\n",
    "print(total)"
   ]
  },
  {
   "cell_type": "code",
   "execution_count": 44,
   "id": "2df911bb",
   "metadata": {},
   "outputs": [
    {
     "name": "stdout",
     "output_type": "stream",
     "text": [
      "371\n",
      "370\n",
      "153\n"
     ]
    }
   ],
   "source": [
    "#Write a program to find all armstrong number from given list using filter function\n",
    "def armstrong(a):\n",
    "    sum=0\n",
    "    temp=a\n",
    "    while temp >0:\n",
    "        d=temp%10\n",
    "        sum+=d**3\n",
    "        temp//=10\n",
    "    if(a==sum):\n",
    "        print(sum)\n",
    "    else:\n",
    "        pass\n",
    "    \n",
    "    \n",
    "\n",
    "l=[121,371,370,153,789]\n",
    "l2=[]\n",
    "l2=list(filter(armstrong,l1))\n",
    "\n"
   ]
  },
  {
   "cell_type": "code",
   "execution_count": null,
   "id": "6561bde0",
   "metadata": {},
   "outputs": [],
   "source": []
  },
  {
   "cell_type": "code",
   "execution_count": null,
   "id": "0fd8cc60",
   "metadata": {},
   "outputs": [],
   "source": []
  }
 ],
 "metadata": {
  "kernelspec": {
   "display_name": "Python 3 (ipykernel)",
   "language": "python",
   "name": "python3"
  },
  "language_info": {
   "codemirror_mode": {
    "name": "ipython",
    "version": 3
   },
   "file_extension": ".py",
   "mimetype": "text/x-python",
   "name": "python",
   "nbconvert_exporter": "python",
   "pygments_lexer": "ipython3",
   "version": "3.9.7"
  }
 },
 "nbformat": 4,
 "nbformat_minor": 5
}
