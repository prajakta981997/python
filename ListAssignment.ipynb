{
 "cells": [
  {
   "cell_type": "code",
   "execution_count": 1,
   "id": "e935cb4d",
   "metadata": {},
   "outputs": [
    {
     "name": "stdout",
     "output_type": "stream",
     "text": [
      "list: [1]\n",
      "list: [1, 2]\n",
      "list: [1, 2, 3]\n",
      "list: [2, 3]\n",
      "list: [2, 3, 5]\n"
     ]
    }
   ],
   "source": [
    "#1.\tWAP to remove to find duplicates elements in  list,\n",
    "list=[1,2,3,1,5]\n",
    "l1=[]\n",
    "for i in list:\n",
    "    if i not in l1:\n",
    "        l1.append(i)\n",
    "    else:\n",
    "        l1.remove(i)\n",
    "    print(\"list:\",l1)   \n"
   ]
  },
  {
   "cell_type": "code",
   "execution_count": 2,
   "id": "7161d01a",
   "metadata": {},
   "outputs": [
    {
     "name": "stdout",
     "output_type": "stream",
     "text": [
      "[1, 2, 3, 5, 7, 9, 10]\n"
     ]
    }
   ],
   "source": [
    "2.\t#WAP to sort the given list\n",
    "\n",
    "List=[7,5,10,9,1,2,3]\n",
    "l1=sorted(List)\n",
    "print(l1)"
   ]
  },
  {
   "cell_type": "code",
   "execution_count": null,
   "id": "9e5d04b9",
   "metadata": {},
   "outputs": [
    {
     "name": "stdout",
     "output_type": "stream",
     "text": [
      "l2: [1, 6, 7, 4, 22, 67, 80]\n",
      "l3: [2, 8, 5, 33, 90, 71]\n"
     ]
    }
   ],
   "source": [
    "#3.3.\tWAP to create a list such that new list contains alternate even and odd from given list\n",
    "\n",
    "l1=[1,2,6,8,7,5,4,33,22,90,67,71,80]\n",
    "l2=[]\n",
    "l3=[]\n",
    "for i in range(0,len(l1)+1,2):\n",
    "    l2.append(l1[i])\n",
    "for i in range(1,len(l1),2):\n",
    "    l3.append(l1[i])\n",
    "print('l2:',l2)    \n",
    "print('l3:',l3)\n",
    "l4=[]\n",
    "k=0\n",
    "while k<=len(l2):\n",
    "    l4.append(l2[k])\n",
    "    l4.append(l3[k])\n",
    "    i+=1\n",
    "print('l4:', )   "
   ]
  },
  {
   "cell_type": "code",
   "execution_count": null,
   "id": "722b47b0",
   "metadata": {},
   "outputs": [],
   "source": [
    "#4.\tWrite a Python program to get the largest number from a list.\n",
    "list=[1,2,3,4,5]\n",
    "l1=max(list)\n",
    "print(l1)"
   ]
  },
  {
   "cell_type": "code",
   "execution_count": null,
   "id": "3ffe6c4b",
   "metadata": {},
   "outputs": [],
   "source": [
    "#12.\tWrite a Python program to print the numbers of a specified list after removing even numbers from it.\n",
    "list=[2,1,4,5,6,7,11]\n",
    "print(\"print before removal of even no:\",list)\n",
    "for i in list:\n",
    "    if(i%2==0):\n",
    "        list.remove(i)\n",
    "print(\"list after removal of even ni:\",list)        "
   ]
  },
  {
   "cell_type": "code",
   "execution_count": null,
   "id": "905a5054",
   "metadata": {},
   "outputs": [],
   "source": [
    "#10.\tSample List : ['Red', 'Green', 'White', 'Black', 'Pink', 'Yellow']\n",
    "#11.\tExpected Output : ['Green', 'White', 'Black']\n",
    "lst=['Red', 'Green', 'White', 'Black', 'Pink', 'Yellow']\n",
    "lst[1:4]"
   ]
  },
  {
   "cell_type": "code",
   "execution_count": null,
   "id": "dd24f453",
   "metadata": {},
   "outputs": [],
   "source": [
    "#8.\tWrite a Python function that takes two lists and returns True if they have at least one common member.\n",
    "def cm(ls1,ls2):\n",
    "    for i in ls1:\n",
    "        if i in ls2:\n",
    "            return True\n",
    "        else:\n",
    "            return False,"
   ]
  },
  {
   "cell_type": "code",
   "execution_count": null,
   "id": "2b3e66b1",
   "metadata": {},
   "outputs": [],
   "source": []
  },
  {
   "cell_type": "code",
   "execution_count": null,
   "id": "247ec60b",
   "metadata": {},
   "outputs": [],
   "source": []
  }
 ],
 "metadata": {
  "kernelspec": {
   "display_name": "Python 3 (ipykernel)",
   "language": "python",
   "name": "python3"
  },
  "language_info": {
   "codemirror_mode": {
    "name": "ipython",
    "version": 3
   },
   "file_extension": ".py",
   "mimetype": "text/x-python",
   "name": "python",
   "nbconvert_exporter": "python",
   "pygments_lexer": "ipython3",
   "version": "3.9.7"
  }
 },
 "nbformat": 4,
 "nbformat_minor": 5
}
