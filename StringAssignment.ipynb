{
 "cells": [
  {
   "cell_type": "code",
   "execution_count": 1,
   "id": "d7dda7a2",
   "metadata": {},
   "outputs": [
    {
     "name": "stdout",
     "output_type": "stream",
     "text": [
      "enter string:pop\n",
      "palindrome\n"
     ]
    }
   ],
   "source": [
    "#1. WAP program to check whether given string is palindrome\n",
    "nm=input('enter string:')\n",
    "if(nm==nm[::-1]):\n",
    "    print('palindrome')\n",
    "else:\n",
    "    print('not palindrome')\n"
   ]
  },
  {
   "cell_type": "code",
   "execution_count": 2,
   "id": "c458aa1e",
   "metadata": {},
   "outputs": [
    {
     "name": "stdout",
     "output_type": "stream",
     "text": [
      "enter String:praju\n",
      "no of vowels: 2\n"
     ]
    }
   ],
   "source": [
    "#2. WAP program to count number of vowels in given string\n",
    "nm=input('enter String:')\n",
    "c=0\n",
    "for i in nm:\n",
    "    if i in 'aeiou':\n",
    "        c=c+1\n",
    "print('no of vowels:',c)        \n",
    "    "
   ]
  },
  {
   "cell_type": "code",
   "execution_count": 17,
   "id": "325f8954",
   "metadata": {},
   "outputs": [
    {
     "name": "stdout",
     "output_type": "stream",
     "text": [
      "enter string:prajakta\n",
      "enter character:a\n",
      "prjkt\n"
     ]
    }
   ],
   "source": [
    "#3. WAP to remove all occurences of given char from String\n",
    "nm=input('enter string:')\n",
    "e=input('enter character:')\n",
    "change=nm.replace(e,\"\")\n",
    "print(change)"
   ]
  },
  {
   "cell_type": "code",
   "execution_count": 14,
   "id": "b26a6add",
   "metadata": {},
   "outputs": [
    {
     "name": "stdout",
     "output_type": "stream",
     "text": [
      "enter string 1:MARY\n",
      "enter string 2:ARMY\n",
      "anagram\n"
     ]
    }
   ],
   "source": [
    "#4. WAP to accept 2 string and check whether they are anagram or not eg) MARY ARMY\n",
    "\n",
    "s1=input('enter string 1:')\n",
    "s2=input('enter string 2:')\n",
    "if(sorted(s1)==sorted(s2)):\n",
    "    print('anagram')\n",
    "else:\n",
    "    print('not anagram')"
   ]
  },
  {
   "cell_type": "code",
   "execution_count": 15,
   "id": "f99e683e",
   "metadata": {},
   "outputs": [
    {
     "name": "stdout",
     "output_type": "stream",
     "text": [
      "n u f   s i   n o h t y p\n"
     ]
    }
   ],
   "source": [
    "#5. WAP to reverse each word in a sentence Python is fun -->nohtyP si nuf\n",
    "s='python is fun'\n",
    "s1=s.split(' ')\n",
    "s2=\" \".join(reversed(s))\n",
    "print(s2)"
   ]
  },
  {
   "cell_type": "code",
   "execution_count": 20,
   "id": "afb69b90",
   "metadata": {},
   "outputs": [
    {
     "name": "stdout",
     "output_type": "stream",
     "text": [
      "enter String:prajakta\n",
      "char of freq in 'prajakta' is:{'p': 1, 'r': 1, 'a': 3, 'j': 1, 'k': 1, 't': 1}\n"
     ]
    }
   ],
   "source": [
    "#6. WAP program to find frequency of each character in given String\n",
    "\n",
    "s=input('enter String:')\n",
    "freq={}\n",
    "for char in s:\n",
    "    if char in freq:\n",
    "        freq[char]+=1\n",
    "    else:\n",
    "        freq[char]=1\n",
    "print(\"char of freq in '{}' is:{}\".format(s,str(freq)))        "
   ]
  },
  {
   "cell_type": "code",
   "execution_count": 21,
   "id": "f6cdd126",
   "metadata": {},
   "outputs": [
    {
     "name": "stdout",
     "output_type": "stream",
     "text": [
      "enter String:praju\n"
     ]
    },
    {
     "data": {
      "text/plain": [
       "'p'"
      ]
     },
     "execution_count": 21,
     "metadata": {},
     "output_type": "execute_result"
    }
   ],
   "source": [
    "#7. WAP to extract first alphabet from given sentence to form a new word\n",
    "\n",
    "s=input('enter String:')\n",
    "s1=s[0:1]\n",
    "s1"
   ]
  },
  {
   "cell_type": "code",
   "execution_count": 22,
   "id": "af9bf30b",
   "metadata": {},
   "outputs": [
    {
     "name": "stdout",
     "output_type": "stream",
     "text": [
      "enter the rows:3\n",
      "*\n",
      "**\n",
      "***\n"
     ]
    }
   ],
   "source": [
    "row=int(input('enter the rows:'))\n",
    "for i in range(1,row+1):\n",
    "    print('*'*i)"
   ]
  },
  {
   "cell_type": "code",
   "execution_count": 27,
   "id": "afa70ac5",
   "metadata": {},
   "outputs": [
    {
     "name": "stdout",
     "output_type": "stream",
     "text": [
      "enter the rows:5\n",
      "ABCDE\n",
      "ABCD\n",
      "ABC\n",
      "AB\n",
      "A\n"
     ]
    }
   ],
   "source": [
    "row=int(input('enter the rows:'))\n",
    "for i in range(row,0,-1):\n",
    "    for j in range(65,65+i):\n",
    "        print(chr(j),end=\"\")\n",
    "    print()    "
   ]
  },
  {
   "cell_type": "code",
   "execution_count": 29,
   "id": "92a0b87e",
   "metadata": {},
   "outputs": [
    {
     "ename": "TypeError",
     "evalue": "can only concatenate str (not \"int\") to str",
     "output_type": "error",
     "traceback": [
      "\u001b[1;31m---------------------------------------------------------------------------\u001b[0m",
      "\u001b[1;31mTypeError\u001b[0m                                 Traceback (most recent call last)",
      "\u001b[1;32m~\\AppData\\Local\\Temp/ipykernel_6800/2540855795.py\u001b[0m in \u001b[0;36m<module>\u001b[1;34m\u001b[0m\n\u001b[0;32m      3\u001b[0m \u001b[0ms1\u001b[0m\u001b[1;33m=\u001b[0m\u001b[1;34m''\u001b[0m\u001b[1;33m\u001b[0m\u001b[1;33m\u001b[0m\u001b[0m\n\u001b[0;32m      4\u001b[0m \u001b[1;32mfor\u001b[0m \u001b[0mi\u001b[0m \u001b[1;32min\u001b[0m \u001b[0mrange\u001b[0m\u001b[1;33m(\u001b[0m\u001b[1;36m0\u001b[0m\u001b[1;33m,\u001b[0m\u001b[0mlen\u001b[0m\u001b[1;33m(\u001b[0m\u001b[0ms\u001b[0m\u001b[1;33m)\u001b[0m\u001b[1;33m)\u001b[0m\u001b[1;33m:\u001b[0m\u001b[1;33m\u001b[0m\u001b[1;33m\u001b[0m\u001b[0m\n\u001b[1;32m----> 5\u001b[1;33m     \u001b[0ms1\u001b[0m\u001b[1;33m+=\u001b[0m\u001b[0mchr\u001b[0m\u001b[1;33m(\u001b[0m\u001b[0mord\u001b[0m\u001b[1;33m(\u001b[0m\u001b[0ms\u001b[0m\u001b[1;33m[\u001b[0m\u001b[0mi\u001b[0m\u001b[1;33m]\u001b[0m\u001b[1;33m+\u001b[0m\u001b[1;36m1\u001b[0m\u001b[1;33m)\u001b[0m\u001b[1;33m)\u001b[0m\u001b[1;33m\u001b[0m\u001b[1;33m\u001b[0m\u001b[0m\n\u001b[0m\u001b[0;32m      6\u001b[0m \u001b[0mprint\u001b[0m\u001b[1;33m(\u001b[0m\u001b[0ms\u001b[0m\u001b[1;33m)\u001b[0m\u001b[1;33m\u001b[0m\u001b[1;33m\u001b[0m\u001b[0m\n\u001b[0;32m      7\u001b[0m \u001b[0mprint\u001b[0m\u001b[1;33m(\u001b[0m\u001b[0ms1\u001b[0m\u001b[1;33m)\u001b[0m\u001b[1;33m\u001b[0m\u001b[1;33m\u001b[0m\u001b[0m\n",
      "\u001b[1;31mTypeError\u001b[0m: can only concatenate str (not \"int\") to str"
     ]
    }
   ],
   "source": [
    "#WAP to replace every character by its next subsequent character.\n",
    "s='hello,how are you'\n",
    "s1=''\n",
    "for i in range(0,len(s)):\n",
    "    s1+=chr(ord(s[i]+1))\n",
    "print(s)\n",
    "print(s1)"
   ]
  },
  {
   "cell_type": "code",
   "execution_count": 30,
   "id": "6ad5e22c",
   "metadata": {},
   "outputs": [
    {
     "name": "stdout",
     "output_type": "stream",
     "text": [
      "enter String:prajakta\n",
      "occurance of string: 8\n"
     ]
    }
   ],
   "source": [
    "#11. Write a Python program to count the number of characters (character frequency) in\n",
    "#a string.\n",
    "s=input('enter String:')\n",
    "s1=len(s)\n",
    "print('occurance of string:',s1)\n"
   ]
  },
  {
   "cell_type": "code",
   "execution_count": 31,
   "id": "62709653",
   "metadata": {},
   "outputs": [
    {
     "name": "stdout",
     "output_type": "stream",
     "text": [
      "enter String:praju\n",
      "Origional: praju\n",
      "Modified: pau\n"
     ]
    }
   ],
   "source": [
    "#12. Write a Python program to remove the characters which have odd index values of a\n",
    "#given string.\n",
    "\n",
    "s=input('enter String:')\n",
    "res=''\n",
    "for i in range(len(s)):\n",
    "    if i%2==0:\n",
    "        res+=s[i]\n",
    "print('Origional:',s)\n",
    "print(\"Modified:\",res)"
   ]
  },
  {
   "cell_type": "code",
   "execution_count": 33,
   "id": "a6b83915",
   "metadata": {},
   "outputs": [
    {
     "name": "stdout",
     "output_type": "stream",
     "text": [
      "enter String:hi python welcome\n",
      "enter word:hi\n",
      "count is: 1\n"
     ]
    }
   ],
   "source": [
    "#13. Write a Python program to count the occurrences of each word in a given sentence.\n",
    "\n",
    "s=input('enter String:')\n",
    "s1=input('enter word:')\n",
    "count=s.count(s1)\n",
    "print('count is:',count)"
   ]
  },
  {
   "cell_type": "code",
   "execution_count": 34,
   "id": "a4ebdd3d",
   "metadata": {},
   "outputs": [
    {
     "name": "stdout",
     "output_type": "stream",
     "text": [
      "enter String:Hi Python\n",
      "Swapcase:= hI pYTHON\n"
     ]
    }
   ],
   "source": [
    "#14. Write a Python program to swap cases or toggle cases of a given string.\n",
    "s=input('enter String:')\n",
    "s1=s.swapcase()\n",
    "print('Swapcase:=',s1)"
   ]
  },
  {
   "cell_type": "code",
   "execution_count": null,
   "id": "695dc8d8",
   "metadata": {},
   "outputs": [],
   "source": []
  }
 ],
 "metadata": {
  "kernelspec": {
   "display_name": "Python 3 (ipykernel)",
   "language": "python",
   "name": "python3"
  },
  "language_info": {
   "codemirror_mode": {
    "name": "ipython",
    "version": 3
   },
   "file_extension": ".py",
   "mimetype": "text/x-python",
   "name": "python",
   "nbconvert_exporter": "python",
   "pygments_lexer": "ipython3",
   "version": "3.9.7"
  }
 },
 "nbformat": 4,
 "nbformat_minor": 5
}
