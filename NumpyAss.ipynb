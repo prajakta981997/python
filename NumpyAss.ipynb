{
 "cells": [
  {
   "cell_type": "code",
   "execution_count": 1,
   "id": "3c0c4b4c",
   "metadata": {},
   "outputs": [
    {
     "name": "stdout",
     "output_type": "stream",
     "text": [
      "Origional Array: [ 1.  0. nan inf]\n",
      "Test ele wise for NaN: [False False  True False]\n"
     ]
    }
   ],
   "source": [
    "#Write a NumPy program to test element-wise for NaN of a given array.\n",
    "\n",
    "import numpy as np\n",
    "\n",
    "a=np.array([1,0,np.nan,np.inf])\n",
    "\n",
    "print('Origional Array:',a)\n",
    "print('Test ele wise for NaN:',np.isnan(a))"
   ]
  },
  {
   "cell_type": "code",
   "execution_count": 3,
   "id": "0e072719",
   "metadata": {},
   "outputs": [
    {
     "name": "stdout",
     "output_type": "stream",
     "text": [
      "[12 13 14 15 16 17 18 19 20 21 22 23 24 25 26 27 28 29 30 31 32 33 34 35\n",
      " 36 37]\n"
     ]
    }
   ],
   "source": [
    "#Write a NumPy program to create an array with values ranging from 12 to 38..\n",
    "\n",
    "x=np.arange(12,38)\n",
    "print(x)"
   ]
  },
  {
   "cell_type": "code",
   "execution_count": 4,
   "id": "5a1d79ba",
   "metadata": {},
   "outputs": [
    {
     "name": "stdout",
     "output_type": "stream",
     "text": [
      "origional array: [10 11 12 13 14 15 16 17 18 19 20]\n",
      "reverse array:= [20 19 18 17 16 15 14 13 12 11 10]\n"
     ]
    }
   ],
   "source": [
    "#Write a NumPy program to reverse an array (first element becomes last).\n",
    "\n",
    "x=np.arange(10,21)\n",
    "print(\"origional array:\",x)\n",
    "x=x[::-1]\n",
    "print('reverse array:=',x)"
   ]
  },
  {
   "cell_type": "code",
   "execution_count": 5,
   "id": "4b1fecc9",
   "metadata": {},
   "outputs": [
    {
     "name": "stdout",
     "output_type": "stream",
     "text": [
      "[1. 1. 1. 1.]\n"
     ]
    }
   ],
   "source": [
    "#Write a NumPy program to convert an array to a float type. \n",
    "\n",
    "arr=np.ones(4,dtype='float')\n",
    "print(arr)"
   ]
  },
  {
   "cell_type": "code",
   "execution_count": 13,
   "id": "239dc6f8",
   "metadata": {},
   "outputs": [
    {
     "name": "stdout",
     "output_type": "stream",
     "text": [
      "Origional array:\n",
      "[[1 1 1 1 1]\n",
      " [1 1 1 1 1]\n",
      " [1 1 1 1 1]\n",
      " [1 1 1 1 1]\n",
      " [1 1 1 1 1]]\n",
      "1 on border and 0 inside in arr:=\n",
      "\n",
      "[[1 1 1 1 1]\n",
      " [1 0 0 0 1]\n",
      " [1 0 0 0 1]\n",
      " [1 0 0 0 1]\n",
      " [1 1 1 1 1]]\n"
     ]
    }
   ],
   "source": [
    "#Write a NumPy program to create a 2d array with 1 on the border and 0 inside.\n",
    "\n",
    "\n",
    "x=np.ones((5,5),dtype='int')\n",
    "print('Origional array:')\n",
    "#print()\n",
    "print(x)\n",
    "print('1 on border and 0 inside in arr:=')\n",
    "print()\n",
    "x[1:-1,1:-1]=0\n",
    "print(x)"
   ]
  },
  {
   "cell_type": "code",
   "execution_count": 15,
   "id": "ffa3ce79",
   "metadata": {},
   "outputs": [
    {
     "name": "stdout",
     "output_type": "stream",
     "text": [
      "origional array:= [1, 2, 3, 4, 5]\n",
      "after appending: [ 1  2  3  4  5  6  7  8  9 10 11 12 13 14 15]\n"
     ]
    }
   ],
   "source": [
    "#Write a NumPy program to append values to the end of an array.\n",
    "\n",
    "x=[1,2,3,4,5]\n",
    "print('origional array:=',x)\n",
    "x=np.append(x,[[6,7,8,9,10],[11,12,13,14,15]])\n",
    "print('after appending:',x)"
   ]
  },
  {
   "cell_type": "code",
   "execution_count": 19,
   "id": "9484ee71",
   "metadata": {},
   "outputs": [
    {
     "name": "stdout",
     "output_type": "stream",
     "text": [
      "array1 [0 1 2 4 6]\n",
      "array2: [0, 6]\n",
      "compare each ele of array1 and array2:==\n",
      "[ True False False False  True]\n"
     ]
    }
   ],
   "source": [
    "#Write a NumPy program to test whether each element of a 1-D array is also present in a second array.\n",
    "\n",
    "array1=np.array([0,1,2,4,6])\n",
    "print('array1',array1)\n",
    "array2=[0,6]\n",
    "print('array2:',array2)\n",
    "print('compare each ele of array1 and array2:==')\n",
    "\n",
    "print(np.in1d(array1,array2))"
   ]
  },
  {
   "cell_type": "code",
   "execution_count": 21,
   "id": "9256869a",
   "metadata": {},
   "outputs": [
    {
     "name": "stdout",
     "output_type": "stream",
     "text": [
      "Origional array: [10 10 20 20 30 30]\n",
      "unique ele of 1d array: [10 20 30]\n"
     ]
    }
   ],
   "source": [
    "#Write a NumPy program to get the unique elements of an array. \n",
    "\n",
    "x=np.array([10,10,20,20,30,30])\n",
    "print('Origional array:',x)\n",
    "print('unique ele of 1d array:',np.unique(x))\n",
    "\n"
   ]
  },
  {
   "cell_type": "code",
   "execution_count": 22,
   "id": "203962e0",
   "metadata": {},
   "outputs": [
    {
     "name": "stdout",
     "output_type": "stream",
     "text": [
      "origional array:\n",
      "[[1 1]\n",
      " [2 3]]\n",
      "unique ele of 2d array: [1 2 3]\n"
     ]
    }
   ],
   "source": [
    "x=np.array([[1,1],[2,3]])\n",
    "print('origional array:')\n",
    "print(x)\n",
    "print('unique ele of 2d array:',np.unique(x))"
   ]
  },
  {
   "cell_type": "code",
   "execution_count": 24,
   "id": "11f0e86e",
   "metadata": {},
   "outputs": [
    {
     "name": "stdout",
     "output_type": "stream",
     "text": [
      "Origional array: [0 1 2 3 4 5 6]\n",
      "Maximun values:= 6\n",
      "Minimum values: 0\n"
     ]
    }
   ],
   "source": [
    "#Write a NumPy program to find the indices of the maximum and minimum values along the given axis of an array.\n",
    "\n",
    "x=np.array([0,1,2,3,4,5,6])\n",
    "print('Origional array:',x)\n",
    "print('Maximun values:=',np.argmax(x))\n",
    "print('Minimum values:',np.argmin(x))"
   ]
  },
  {
   "cell_type": "code",
   "execution_count": 26,
   "id": "10a80ccf",
   "metadata": {},
   "outputs": [
    {
     "name": "stdout",
     "output_type": "stream",
     "text": [
      "Origional array:\n",
      "[[10 20 30]\n",
      " [20 40 50]]\n",
      "new flattened arrau: [10 20 30 20 40 50]\n",
      "[10 20 30 20 40 50]\n"
     ]
    }
   ],
   "source": [
    "#Write a NumPy program to create a contiguous flattened array\n",
    "\n",
    "x=np.array([[10,20,30],[20,40,50]])\n",
    "print('Origional array:')\n",
    "print(x)\n",
    "y=np.ravel(x)\n",
    "print('new flattened arrau:',y)\n",
    "print(y)"
   ]
  },
  {
   "cell_type": "code",
   "execution_count": 28,
   "id": "98bcbbef",
   "metadata": {},
   "outputs": [
    {
     "name": "stdout",
     "output_type": "stream",
     "text": [
      "Array 1:=\n",
      "[[1 2 3]\n",
      " [4 5 6]\n",
      " [7 8 9]]\n",
      "Array 2:=\n",
      "[[10 11 12]\n",
      " [13 14 15]\n",
      " [16 17 18]]\n"
     ]
    }
   ],
   "source": [
    "#Write a NumPy program to concatenate two 2-dimensional arrays. \n",
    "\n",
    "arr1=np.arange(1,10).reshape(3,3)\n",
    "arr2=np.arange(10,19).reshape(3,3)\n",
    "print('Array 1:=')\n",
    "print(arr1)\n",
    "print('Array 2:=')\n",
    "print(arr2)"
   ]
  },
  {
   "cell_type": "code",
   "execution_count": 31,
   "id": "374dd252",
   "metadata": {},
   "outputs": [
    {
     "name": "stdout",
     "output_type": "stream",
     "text": [
      "before reshaping: [10 20 30 40 50 60 70 80]\n",
      "After reshaping having diamension 2*4:\n",
      "[[10 20 30 40]\n",
      " [50 60 70 80]]\n"
     ]
    }
   ],
   "source": [
    "#Write a NumPy program to convert 1-D arrays as columns into a 2-D array. \n",
    "\n",
    "arr=np.array([10,20,30,40,50,60,70,80])\n",
    "print('before reshaping:',arr)\n",
    "arr2=arr.reshape(2,4)\n",
    "print('After reshaping having diamension 2*4:')\n",
    "print(arr2)"
   ]
  },
  {
   "cell_type": "code",
   "execution_count": 32,
   "id": "d7e8d461",
   "metadata": {},
   "outputs": [
    {
     "name": "stdout",
     "output_type": "stream",
     "text": [
      "[ 3  5  6  9 10 12 15 18 20 21 24 25 27 30 33 35 36 39 40 42 45 48 50 51\n",
      " 54 55 57 60 63 65 66 69 70 72 75 78 80 81 84 85 87 90 93 95 96 99]\n",
      "sum: 2318\n"
     ]
    }
   ],
   "source": [
    "#Write a NumPy program (using NumPy) to sum of all the multiples of 3 or 5 below 100. \n",
    "\n",
    "x=np.arange(1,100)\n",
    "n=x[(x%3==0)|(x%5==0)]\n",
    "print(n[:100])\n",
    "print('sum:',n.sum())"
   ]
  },
  {
   "cell_type": "code",
   "execution_count": 33,
   "id": "88849b26",
   "metadata": {},
   "outputs": [
    {
     "name": "stdout",
     "output_type": "stream",
     "text": [
      "Origional array:=\n",
      "[[1 2 3]\n",
      " [4 3 1]]\n",
      "index of a maximum ele in a numpy array along one axis:\n",
      "4\n"
     ]
    }
   ],
   "source": [
    "#Write a NumPy program to get the index of a maximum element in a NumPy array along one \n",
    "#axis\n",
    "\n",
    "a=np.array([[1,2,3],[4,3,1]])\n",
    "print('Origional array:=')\n",
    "print(a)\n",
    "i,j=np.unravel_index(a.argmax(),a.shape)\n",
    "print('index of a maximum ele in a numpy array along one axis:')\n",
    "print(a[i,j])\n"
   ]
  },
  {
   "cell_type": "code",
   "execution_count": 34,
   "id": "f3e9e536",
   "metadata": {},
   "outputs": [
    {
     "name": "stdout",
     "output_type": "stream",
     "text": [
      "Origional aray:=\n",
      "Array-1: [1 2 3]\n",
      "Array-2: [2 3 4]\n",
      "stack 1-d arrays as rows wise:\n",
      "[[1 2 3]\n",
      " [2 3 4]]\n"
     ]
    }
   ],
   "source": [
    "#Write a NumPy program to stack 1-D arrays as row wise. \n",
    "\n",
    "print('Origional aray:=')\n",
    "x=np.array((1,2,3))\n",
    "y=np.array((2,3,4))\n",
    "print(\"Array-1:\",x)\n",
    "print(\"Array-2:\",y)\n",
    "new_array=np.row_stack((x,y))\n",
    "print('stack 1-d arrays as rows wise:')\n",
    "print(new_array)"
   ]
  },
  {
   "cell_type": "code",
   "execution_count": 35,
   "id": "5b511077",
   "metadata": {},
   "outputs": [
    {
     "name": "stdout",
     "output_type": "stream",
     "text": [
      "Origional aray:=\n",
      "Array-1: [1 2 3]\n",
      "Array-2: [2 3 4]\n",
      "stack 1-d arrays as col wise:\n",
      "[[1 2]\n",
      " [2 3]\n",
      " [3 4]]\n"
     ]
    }
   ],
   "source": [
    "#Write a NumPy program to stack 1-D arrays as col wise. \n",
    "\n",
    "print('Origional aray:=')\n",
    "x=np.array((1,2,3))\n",
    "y=np.array((2,3,4))\n",
    "print(\"Array-1:\",x)\n",
    "print(\"Array-2:\",y)\n",
    "new_array=np.column_stack((x,y))\n",
    "print('stack 1-d arrays as col wise:')\n",
    "print(new_array)"
   ]
  },
  {
   "cell_type": "code",
   "execution_count": 36,
   "id": "3b3a8641",
   "metadata": {},
   "outputs": [
    {
     "name": "stdout",
     "output_type": "stream",
     "text": [
      "given array:\n",
      "[[0 1]\n",
      " [2 3]]\n",
      "Maximum value: [1 3]\n",
      "Minimum value: [0 2]\n"
     ]
    }
   ],
   "source": [
    "#Write a NumPy program to get the minimum and maximum value of a given array along the second axis. \n",
    "\n",
    "arr=np.array([[0,1],[2,3]])\n",
    "print(\"given array:\")\n",
    "print(arr)\n",
    "r1=np.amax(arr,1)\n",
    "print('Maximum value:',r1)\n",
    "\n",
    "r2=np.amin(arr,1)\n",
    "print(\"Minimum value:\",r2)"
   ]
  },
  {
   "cell_type": "code",
   "execution_count": 50,
   "id": "60f3d195",
   "metadata": {},
   "outputs": [
    {
     "name": "stdout",
     "output_type": "stream",
     "text": [
      "[1, 9, 25, 49]\n",
      "None\n",
      "[27, 125, 125, 343]\n",
      "None\n"
     ]
    }
   ],
   "source": [
    "#Write a NumPy program to replace odd number in 2d array by its square \n",
    "def fun_list(list_, x):\n",
    "    s=[]    \n",
    "    s= [i**x for i in list_ if (i%2)!=0]\n",
    "    list_=s          \n",
    "    print(list_)\n",
    "list1 = [1, 2, 3, 4,5,6,7]\n",
    "list2 = [2, 3, 4, 5,5,6,7]\n",
    "print(fun_list(list1, 2))\n",
    "print(fun_list(list2, 3))  "
   ]
  },
  {
   "cell_type": "code",
   "execution_count": 46,
   "id": "b311269f",
   "metadata": {},
   "outputs": [
    {
     "name": "stdout",
     "output_type": "stream",
     "text": [
      "[[[0.19818754 0.08799622 0.22026988]\n",
      "  [0.76124045 0.77219442 0.80423108]\n",
      "  [0.63843909 0.62483732 0.87825244]]\n",
      "\n",
      " [[0.18906955 0.41435582 0.57529677]\n",
      "  [0.44220522 0.67460711 0.92356771]\n",
      "  [0.24989181 0.99236591 0.4464311 ]]\n",
      "\n",
      " [[0.05430147 0.61259114 0.92614094]\n",
      "  [0.90371857 0.68040585 0.50378952]\n",
      "  [0.8741519  0.82471925 0.03554491]]]\n"
     ]
    }
   ],
   "source": [
    "#Write a NumPy program to create a 3x3x3 array with random values. \n",
    "x = np.random.random((3,3,3))\n",
    "print(x)"
   ]
  },
  {
   "cell_type": "code",
   "execution_count": 48,
   "id": "6e32f1b1",
   "metadata": {},
   "outputs": [
    {
     "name": "stdout",
     "output_type": "stream",
     "text": [
      "Original array:\n",
      "[ -10.2 -122.2    0.2]\n",
      "Element-wise absolute value:\n",
      "[ 10.2 122.2   0.2]\n"
     ]
    }
   ],
   "source": [
    "# Write a NumPy program to calculate the absolute value element-wise. \n",
    "x = np.array([-10.2, -122.2, .20])\n",
    "print(\"Original array:\")\n",
    "print(x)\n",
    "print(\"Element-wise absolute value:\")\n",
    "print(np.absolute(x))"
   ]
  },
  {
   "cell_type": "code",
   "execution_count": null,
   "id": "3c19f210",
   "metadata": {},
   "outputs": [],
   "source": []
  }
 ],
 "metadata": {
  "kernelspec": {
   "display_name": "Python 3 (ipykernel)",
   "language": "python",
   "name": "python3"
  },
  "language_info": {
   "codemirror_mode": {
    "name": "ipython",
    "version": 3
   },
   "file_extension": ".py",
   "mimetype": "text/x-python",
   "name": "python",
   "nbconvert_exporter": "python",
   "pygments_lexer": "ipython3",
   "version": "3.9.7"
  }
 },
 "nbformat": 4,
 "nbformat_minor": 5
}
