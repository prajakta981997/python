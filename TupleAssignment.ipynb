{
 "cells": [
  {
   "cell_type": "code",
   "execution_count": 2,
   "id": "54cf778e",
   "metadata": {},
   "outputs": [
    {
     "name": "stdout",
     "output_type": "stream",
     "text": [
      "elements 1 is repeated 4 times\n"
     ]
    }
   ],
   "source": [
    "#1.\tWrite a Python program to find the repeated items of a tuple.\n",
    "t=(1,3,4,34,1,1,1)\n",
    "cnt=0\n",
    "for i in t:\n",
    "    if t.count(i)>1:\n",
    "        cnt+=1\n",
    "print('elements',i,'is repeated',cnt,'times')        \n",
    "        "
   ]
  },
  {
   "cell_type": "code",
   "execution_count": 3,
   "id": "cc184db8",
   "metadata": {},
   "outputs": [
    {
     "name": "stdout",
     "output_type": "stream",
     "text": [
      "enter the elementy to check:4\n",
      "False\n"
     ]
    }
   ],
   "source": [
    "#2.\tWrite a Python program to check whether an element exists within a tuple.\n",
    "t1=(1,2,3,17,22,65)\n",
    "c=int(input('enter the elementy to check:'))\n",
    "for i in t1:\n",
    "    if c in t1:\n",
    "        res=True\n",
    "    else:\n",
    "        res=False\n",
    "print(res)        \n",
    "        "
   ]
  },
  {
   "cell_type": "code",
   "execution_count": 4,
   "id": "91bdc310",
   "metadata": {},
   "outputs": [
    {
     "name": "stdout",
     "output_type": "stream",
     "text": [
      "(1, 3, 'j', 'hello', '90', [1, 2, 3])\n"
     ]
    }
   ],
   "source": [
    "#3.\tWrite a Python program to convert a list to a tuple.\n",
    "lst=[1,3,'j','hello','90',[1,2,3]]\n",
    "l3=tuple(lst)\n",
    "print(l3)"
   ]
  },
  {
   "cell_type": "code",
   "execution_count": 7,
   "id": "338a4ee0",
   "metadata": {},
   "outputs": [
    {
     "name": "stdout",
     "output_type": "stream",
     "text": [
      "og: [(4, 5), (2, 3), (6, 7), (2, 8)]\n",
      "cg: [(2, 3), (4, 5), (2, 8), (6, 7)]\n"
     ]
    }
   ],
   "source": [
    "#4.\t\"WaP to sort list of tuple based on sum Input: [(4, 5), (2, 3), (6, 7), (2, 8)]\n",
    "#Output: [(2, 3), (4, 5), (2, 8), (6, 7)]\"\n",
    "t2=[(4,5),(2,3),(6,7),(2,8)]\n",
    "print('og:',t2)\n",
    "l=len(t2)\n",
    "for i in range(l):\n",
    "    for j in range(l-i-1):\n",
    "        if(t2[j][0]+t2[j][1])>(t2[j+1][0]+t2[j+1][1]):\n",
    "            t2[j],t2[j+1]=t2[j+1],t2[j]\n",
    "print('cg:',t2)"
   ]
  },
  {
   "cell_type": "code",
   "execution_count": 8,
   "id": "bb1370e2",
   "metadata": {},
   "outputs": [
    {
     "name": "stdout",
     "output_type": "stream",
     "text": [
      "(9, 78, 4, 2, 12, 45, 23)\n"
     ]
    }
   ],
   "source": [
    "#5.\tWrite a Python program to reverse a tuple\n",
    "t3=(23,45,12,2,4,78,9)\n",
    "t4=t3[::-1]\n",
    "print(t4)"
   ]
  },
  {
   "cell_type": "code",
   "execution_count": 9,
   "id": "0bf38938",
   "metadata": {},
   "outputs": [
    {
     "name": "stdout",
     "output_type": "stream",
     "text": [
      "1st way: (23, 45, 12, 2, 4, 78, 9)\n",
      "2nd way  (23, 45, 12, 2, 4, 78, 9)\n"
     ]
    }
   ],
   "source": [
    "#6.\tWrite a code to copy contents of one tuple to other in all possible ways\n",
    "t3=(23,45,12,2,4,78,9)\n",
    "l4=tuple(t3)\n",
    "print(\"1st way:\",l4)\n",
    "l5=t3[:]\n",
    "print(\"2nd way \",l5)"
   ]
  },
  {
   "cell_type": "code",
   "execution_count": 10,
   "id": "2c8181f3",
   "metadata": {},
   "outputs": [
    {
     "name": "stdout",
     "output_type": "stream",
     "text": [
      "(1, 2, 3, 5, 6, 7, 8, 9)\n"
     ]
    }
   ],
   "source": [
    "#7.\tIf tuple1 = (1,2,3,4,5,6,7,8,9) move contents of tuple1 to tuple2 except 4.\n",
    "tuple1=(1,2,3,4,5,6,7,8,9)\n",
    "t2=()\n",
    "t=list(tuple1)\n",
    "t.remove(4)\n",
    "t2=tuple(t)\n",
    "print(t2)"
   ]
  },
  {
   "cell_type": "code",
   "execution_count": 11,
   "id": "47f2824d",
   "metadata": {},
   "outputs": [
    {
     "name": "stdout",
     "output_type": "stream",
     "text": [
      "[4, 5, 6, 7, 100]\n",
      "[6, 8, 9]\n",
      "([4, 5, 6, 7, 100], [6, 8, 9])\n"
     ]
    }
   ],
   "source": [
    "#8.\tTuple contains two lists , list 1 and list 2.\n",
    "#List1=[4,5,6,7]  list2=[6,7,8,9]\n",
    "#Write a code to append 100 in list1 of tuple and\n",
    "#Remove 7 from list2 of tuple\n",
    "\n",
    "list1=[4,5,6,7]\n",
    "list2=[6,7,8,9]\n",
    "l3=[]\n",
    "list1.append(100)\n",
    "print(list1)\n",
    "list2.remove(7)\n",
    "print(list2)\n",
    "l3.append(list1)\n",
    "l3.append(list2)\n",
    "t2=tuple(l3)\n",
    "print(t2)\n"
   ]
  },
  {
   "cell_type": "code",
   "execution_count": null,
   "id": "835eab0f",
   "metadata": {},
   "outputs": [],
   "source": []
  }
 ],
 "metadata": {
  "kernelspec": {
   "display_name": "Python 3 (ipykernel)",
   "language": "python",
   "name": "python3"
  },
  "language_info": {
   "codemirror_mode": {
    "name": "ipython",
    "version": 3
   },
   "file_extension": ".py",
   "mimetype": "text/x-python",
   "name": "python",
   "nbconvert_exporter": "python",
   "pygments_lexer": "ipython3",
   "version": "3.9.7"
  }
 },
 "nbformat": 4,
 "nbformat_minor": 5
}
